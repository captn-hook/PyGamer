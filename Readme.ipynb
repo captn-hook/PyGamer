{
 "cells": [
  {
   "cell_type": "markdown",
   "metadata": {},
   "source": [
    "https://docs.replit.com/tutorials/python/2d-platform-game"
   ]
  },
  {
   "cell_type": "code",
   "execution_count": 2,
   "metadata": {},
   "outputs": [
    {
     "name": "stdout",
     "output_type": "stream",
     "text": [
      "pygame 2.5.2 (SDL 2.28.3, Python 3.11.6)\n",
      "Hello from the pygame community. https://www.pygame.org/contribute.html\n"
     ]
    }
   ],
   "source": [
    "import pygame"
   ]
  },
  {
   "cell_type": "code",
   "execution_count": 3,
   "metadata": {},
   "outputs": [
    {
     "ename": "KeyboardInterrupt",
     "evalue": "",
     "output_type": "error",
     "traceback": [
      "\u001b[1;31m---------------------------------------------------------------------------\u001b[0m",
      "\u001b[1;31mKeyboardInterrupt\u001b[0m                         Traceback (most recent call last)",
      "\u001b[1;32mo:\\PyGame\\Readme.ipynb Cell 3\u001b[0m line \u001b[0;36m1\n\u001b[0;32m     <a href='vscode-notebook-cell:/o%3A/PyGame/Readme.ipynb#W2sZmlsZQ%3D%3D?line=13'>14</a>\u001b[0m         clock\u001b[39m.\u001b[39mtick(\u001b[39m60\u001b[39m)\n\u001b[0;32m     <a href='vscode-notebook-cell:/o%3A/PyGame/Readme.ipynb#W2sZmlsZQ%3D%3D?line=15'>16</a>\u001b[0m \u001b[39mif\u001b[39;00m \u001b[39m__name__\u001b[39m \u001b[39m==\u001b[39m \u001b[39m\"\u001b[39m\u001b[39m__main__\u001b[39m\u001b[39m\"\u001b[39m:\n\u001b[1;32m---> <a href='vscode-notebook-cell:/o%3A/PyGame/Readme.ipynb#W2sZmlsZQ%3D%3D?line=16'>17</a>\u001b[0m     main()\n",
      "\u001b[1;32mo:\\PyGame\\Readme.ipynb Cell 3\u001b[0m line \u001b[0;36m1\n\u001b[0;32m     <a href='vscode-notebook-cell:/o%3A/PyGame/Readme.ipynb#W2sZmlsZQ%3D%3D?line=10'>11</a>\u001b[0m screen\u001b[39m.\u001b[39mfill(BACKGROUND)\n\u001b[0;32m     <a href='vscode-notebook-cell:/o%3A/PyGame/Readme.ipynb#W2sZmlsZQ%3D%3D?line=11'>12</a>\u001b[0m pygame\u001b[39m.\u001b[39mdisplay\u001b[39m.\u001b[39mflip()\n\u001b[1;32m---> <a href='vscode-notebook-cell:/o%3A/PyGame/Readme.ipynb#W2sZmlsZQ%3D%3D?line=13'>14</a>\u001b[0m clock\u001b[39m.\u001b[39;49mtick(\u001b[39m60\u001b[39;49m)\n",
      "\u001b[1;31mKeyboardInterrupt\u001b[0m: "
     ]
    }
   ],
   "source": [
    "WIDTH = 400\n",
    "HEIGHT = 300\n",
    "BACKGROUND = (0, 0, 0)\n",
    "\n",
    "def main():\n",
    "    pygame.init()\n",
    "    screen = pygame.display.set_mode((WIDTH, HEIGHT))\n",
    "    clock = pygame.time.Clock()\n",
    "\n",
    "    while True:\n",
    "        screen.fill(BACKGROUND)\n",
    "        pygame.display.flip()\n",
    "\n",
    "        clock.tick(60)\n",
    "\n",
    "if __name__ == \"__main__\":\n",
    "    main()"
   ]
  },
  {
   "cell_type": "code",
   "execution_count": null,
   "metadata": {},
   "outputs": [],
   "source": [
    "class Sprite(pygame.sprite.Sprite):\n",
    "    def __init__(self, image, startx, starty):\n",
    "        super().__init__()\n",
    "\n",
    "        self.image = pygame.image.load(image)\n",
    "        self.rect = self.image.get_rect()\n",
    "\n",
    "        self.rect.center = [startx, starty]\n",
    "\n",
    "    def update(self):\n",
    "        pass\n",
    "\n",
    "    def draw(self, screen):\n",
    "        screen.blit(self.image, self.rect)"
   ]
  },
  {
   "cell_type": "code",
   "execution_count": null,
   "metadata": {},
   "outputs": [],
   "source": [
    "class Player(Sprite):\n",
    "    def __init__(self, startx, starty):\n",
    "        super().__init__(\"p1_front.png\", startx, starty)\n",
    "\n",
    "class Box(Sprite):\n",
    "    def __init__(self, startx, starty):\n",
    "        super().__init__(\"boxAlt.png\", startx, starty)\n"
   ]
  }
 ],
 "metadata": {
  "kernelspec": {
   "display_name": "Python 3",
   "language": "python",
   "name": "python3"
  },
  "language_info": {
   "codemirror_mode": {
    "name": "ipython",
    "version": 3
   },
   "file_extension": ".py",
   "mimetype": "text/x-python",
   "name": "python",
   "nbconvert_exporter": "python",
   "pygments_lexer": "ipython3",
   "version": "3.11.6"
  }
 },
 "nbformat": 4,
 "nbformat_minor": 2
}
